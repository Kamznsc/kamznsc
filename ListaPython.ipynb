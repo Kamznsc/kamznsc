{
  "nbformat": 4,
  "nbformat_minor": 0,
  "metadata": {
    "colab": {
      "provenance": [],
      "authorship_tag": "ABX9TyNquBfduzUvKbjC1JYwRrC2",
      "include_colab_link": true
    },
    "kernelspec": {
      "name": "python3",
      "display_name": "Python 3"
    },
    "language_info": {
      "name": "python"
    }
  },
  "cells": [
    {
      "cell_type": "markdown",
      "metadata": {
        "id": "view-in-github",
        "colab_type": "text"
      },
      "source": [
        "<a href=\"https://colab.research.google.com/github/Kamznsc/kamznsc/blob/main/ListaPython.ipynb\" target=\"_parent\"><img src=\"https://colab.research.google.com/assets/colab-badge.svg\" alt=\"Open In Colab\"/></a>"
      ]
    },
    {
      "cell_type": "code",
      "execution_count": null,
      "metadata": {
        "id": "nXg38KPXQ0vF"
      },
      "outputs": [],
      "source": [
        "numero = float (input(\"N° 1\"))\n",
        "numero2 = float (input(\"N°2\"))\n",
        "soma = numero + numero2\n",
        "\n",
        "print(soma)\n"
      ]
    },
    {
      "cell_type": "code",
      "source": [
        "numero = int (input(\"N°\"))\n",
        "#Processamento\n",
        "if numero % 2 ==0:\n",
        "  resultado = \"PAR\"\n",
        "else:\n",
        " resultado = \"IMPAR\"\n",
        "\n",
        "\n",
        "p rint(resultado)"
      ],
      "metadata": {
        "colab": {
          "base_uri": "https://localhost:8080/"
        },
        "id": "aXQJ6qxFVX4a",
        "outputId": "214dda04-c34d-47e4-bae8-141b2d5c5af9"
      },
      "execution_count": 7,
      "outputs": [
        {
          "output_type": "stream",
          "name": "stdout",
          "text": [
            "N°5\n",
            "IMPAR\n"
          ]
        }
      ]
    }
  ]
}